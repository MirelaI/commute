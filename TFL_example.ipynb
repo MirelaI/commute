{
 "cells": [
  {
   "cell_type": "code",
   "execution_count": null,
   "metadata": {},
   "outputs": [],
   "source": [
    "import pandas as pd # CSV reading library\n",
    "import matplotlib.pyplot as plt # plotting library\n",
    "import matplotlib.dates as mdates\n",
    "\n",
    "from glob import glob\n",
    "\n",
    "%matplotlib inline "
   ]
  },
  {
   "cell_type": "code",
   "execution_count": null,
   "metadata": {
    "scrolled": true
   },
   "outputs": [],
   "source": [
    "# Read the csv and print it\n",
    "history = pd.read_csv(\"travel_history.csv\")\n",
    "history"
   ]
  },
  {
   "cell_type": "code",
   "execution_count": null,
   "metadata": {
    "scrolled": true
   },
   "outputs": [],
   "source": [
    "# Let's create a graph of my Oyster balance\n",
    "\n",
    "# First, we parse the date column to a proper date object.\n",
    "date = pd.to_datetime(history.Date, infer_datetime_format=True)\n",
    "\n",
    "# Set up the plot\n",
    "plt.title(\"Balance\")\n",
    "plt.xlabel(\"Date\")\n",
    "plt.ylabel(\"GBP\")\n",
    "\n",
    "plt.plot(date, history.Balance)\n",
    "\n",
    "# Tweak the axis a bit to be readable\n",
    "plt.gca().xaxis.set_major_locator(mdates.MonthLocator())\n",
    "plt.gca().xaxis.set_minor_locator(mdates.DayLocator())\n",
    "plt.gca().xaxis.set_major_formatter(mdates.DateFormatter('%d-%m-%Y'))"
   ]
  },
  {
   "cell_type": "code",
   "execution_count": null,
   "metadata": {},
   "outputs": [],
   "source": [
    "# Let's look at only my bus journeys\n",
    "only_bus = history[history['Journey/Action'].str.contains('Bus')]\n",
    "only_bus.groupby('Journey/Action')['Journey/Action'].count()\n",
    "\n",
    "# Can you guess what my favourite bus is?"
   ]
  },
  {
   "cell_type": "code",
   "execution_count": null,
   "metadata": {
    "scrolled": true
   },
   "outputs": [],
   "source": [
    "# Let's do the same for the tube, but both from AND to destination!\n",
    "\n",
    "only_tube = history[~history['Journey/Action'].str.contains('Auto|Bus')]\n",
    "\n",
    "# Split the two stations\n",
    "from_to = only_tube['Journey/Action'].str.split(' to ', expand=True)\n",
    "from_to.columns = ['from', 'to']\n",
    "\n",
    "total = pd.concat([from_to['from'], from_to['to']], ignore_index=True)\n",
    "total.groupby(total).count().sort_values(0, ascending=False)\n",
    "\n",
    "# Now you can even guess where I live and work!"
   ]
  },
  {
   "cell_type": "code",
   "execution_count": null,
   "metadata": {},
   "outputs": [],
   "source": [
    "start_time = pd.to_datetime(history['Start Time'], infer_datetime_format=True)\n",
    "plt.hist(start_time[history['Journey/Action'].str.contains('Bus')].dt.hour)"
   ]
  },
  {
   "cell_type": "code",
   "execution_count": null,
   "metadata": {},
   "outputs": [],
   "source": [
    "bus_start = start_time[history['Journey/Action'].str.contains('Bus')].dt.hour\n",
    "tube_start = start_time[history['Journey/Action'].str.contains('to')].dt.hour\n",
    "\n",
    "\n",
    "plt.hist([bus_start,tube_start], stacked=True)"
   ]
  },
  {
   "cell_type": "code",
   "execution_count": null,
   "metadata": {},
   "outputs": [],
   "source": [
    "weekday = date.apply(lambda x: x.weekday())"
   ]
  },
  {
   "cell_type": "code",
   "execution_count": null,
   "metadata": {},
   "outputs": [],
   "source": [
    "plt.hist(start_time[weekday < 5].dt.hour)"
   ]
  },
  {
   "cell_type": "code",
   "execution_count": null,
   "metadata": {},
   "outputs": [],
   "source": [
    "plt.hist(start_time[weekday >= 5].dt.hour)"
   ]
  },
  {
   "cell_type": "code",
   "execution_count": null,
   "metadata": {},
   "outputs": [],
   "source": [
    "victor_history = pd.concat([pd.read_csv(csv_file) for csv_file in glob('travel_history_victor/*')])\n",
    "victor_history.Date = pd.to_datetime(victor_history.Date, infer_datetime_format=True)\n",
    "victor_history = victor_history.sort_values('Date')"
   ]
  },
  {
   "cell_type": "code",
   "execution_count": null,
   "metadata": {},
   "outputs": [],
   "source": [
    "date = pd.to_datetime(victor_history.Date, infer_datetime_format=True)\n",
    "\n",
    "# Set up the plot\n",
    "plt.title(\"Balance\")\n",
    "plt.xlabel(\"Date\")\n",
    "plt.ylabel(\"GBP\")\n",
    "\n",
    "plt.plot(date, victor_history.Balance)"
   ]
  },
  {
   "cell_type": "code",
   "execution_count": null,
   "metadata": {},
   "outputs": [],
   "source": [
    "date = pd.to_datetime(victor_history.Date, infer_datetime_format=True)\n",
    "\n",
    "weekday = date.apply(lambda x: x.weekday())\n",
    "start_time = pd.to_datetime(victor_history['Start Time'], infer_datetime_format=True)"
   ]
  },
  {
   "cell_type": "code",
   "execution_count": null,
   "metadata": {},
   "outputs": [],
   "source": [
    "plt.hist(start_time[weekday < 5].dt.hour)"
   ]
  },
  {
   "cell_type": "code",
   "execution_count": null,
   "metadata": {},
   "outputs": [],
   "source": [
    "plt.hist(start_time[weekday >= 5].dt.hour)"
   ]
  }
 ],
 "metadata": {
  "kernelspec": {
   "display_name": "Python 2",
   "language": "python",
   "name": "python2"
  },
  "language_info": {
   "codemirror_mode": {
    "name": "ipython",
    "version": 2
   },
   "file_extension": ".py",
   "mimetype": "text/x-python",
   "name": "python",
   "nbconvert_exporter": "python",
   "pygments_lexer": "ipython2",
   "version": "2.7.14"
  }
 },
 "nbformat": 4,
 "nbformat_minor": 2
}
